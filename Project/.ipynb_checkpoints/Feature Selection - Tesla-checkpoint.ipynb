{
 "cells": [
  {
   "cell_type": "code",
   "execution_count": 62,
   "id": "617e7b1f",
   "metadata": {},
   "outputs": [
    {
     "name": "stdout",
     "output_type": "stream",
     "text": [
      "[*********************100%***********************]  1 of 1 completed\n"
     ]
    },
    {
     "name": "stderr",
     "output_type": "stream",
     "text": [
      "/var/folders/2s/jbd9m2gj61n3fk0zl36lyp940000gn/T/ipykernel_8454/2771080619.py:26: SettingWithCopyWarning: \n",
      "A value is trying to be set on a copy of a slice from a DataFrame\n",
      "\n",
      "See the caveats in the documentation: https://pandas.pydata.org/pandas-docs/stable/user_guide/indexing.html#returning-a-view-versus-a-copy\n",
      "  tsla['direction'][0] = 0\n"
     ]
    },
    {
     "name": "stdout",
     "output_type": "stream",
     "text": [
      "[*********************100%***********************]  1 of 1 completed\n",
      "[*********************100%***********************]  1 of 1 completed\n",
      "[*********************100%***********************]  1 of 1 completed\n",
      "[*********************100%***********************]  1 of 1 completed\n",
      "[*********************100%***********************]  1 of 1 completed\n",
      "[*********************100%***********************]  1 of 1 completed\n",
      "[*********************100%***********************]  1 of 1 completed\n",
      "[*********************100%***********************]  1 of 1 completed\n",
      "[*********************100%***********************]  1 of 1 completed\n",
      "[*********************100%***********************]  1 of 1 completed\n",
      "[*********************100%***********************]  1 of 1 completed\n",
      "    SP_500_Adj_Close  AAPL_Adj_Close  AMZN_Adj_Close  GOOG_Adj_Close  \\\n",
      "61       2059.739990       25.041708       29.681999       37.247501   \n",
      "62       2072.780029       25.271469       29.924999       37.495499   \n",
      "63       2066.129883       25.531097       29.659500       37.264500   \n",
      "64       2045.170044       25.230112       29.306999       36.889999   \n",
      "65       2066.659912       25.494335       30.104000       37.284500   \n",
      "\n",
      "    CMA_Adj_Close  BTC_Adj_Close  ETH_Adj_Close  XRP_Adj_Close  LTC_Adj_Close  \\\n",
      "61      29.722061     435.122986    1148.530029        2.45621        3.43297   \n",
      "62      29.572939     423.989014    1299.739990        2.10178        3.36502   \n",
      "63      29.886879     421.651001    1255.819946        1.97492        3.32353   \n",
      "64      29.306097     410.938995    1154.930054        1.95080        3.25023   \n",
      "65      29.729914     400.570007    1273.199951        2.04323        3.19216   \n",
      "\n",
      "    ADA_Adj_Close  Fama_French_Mkt_RF  Fama_French_SMB  Fama_French_HML  \\\n",
      "61       0.899002            0.004360        -0.013923         0.002530   \n",
      "62       0.814743            0.003600        -0.014000         0.001300   \n",
      "63       0.793121            0.002439        -0.013577         0.001484   \n",
      "64       0.688412            0.001277        -0.013155         0.001668   \n",
      "65       0.897508            0.000116        -0.012732         0.001852   \n",
      "\n",
      "             OBV  mom_5_20  mom_20_100  mom_60_200  VIX_IDX  \n",
      "61  5.855895e+08  0.032303    0.219975    0.028468    13.95  \n",
      "62  8.255520e+08  0.043205    0.213804    0.063376    13.10  \n",
      "63  1.027682e+09  0.072657    0.228561    0.127602    14.12  \n",
      "64  1.176912e+09  0.110112    0.244435    0.184651    15.42  \n",
      "65  1.352494e+09  0.169818    0.310069    0.257915    14.09  \n",
      "Top 10 most important features through Decision Trees:\n",
      "AAPL_Adj_Close\n",
      "AMZN_Adj_Close\n",
      "BTC_Adj_Close\n",
      "XRP_Adj_Close\n",
      "ADA_Adj_Close\n",
      "Fama_French_Mkt_RF\n",
      "Fama_French_HML\n",
      "OBV\n",
      "mom_20_100\n",
      "mom_60_200\n"
     ]
    }
   ],
   "source": [
    "import yfinance as yf\n",
    "import pandas as pd\n",
    "import numpy as np\n",
    "from sklearn.tree import DecisionTreeRegressor\n",
    "from sklearn.linear_model import LassoLarsCV\n",
    "from sklearn.ensemble import RandomForestRegressor\n",
    "from sklearn.linear_model import Ridge\n",
    "import xgboost as xgb\n",
    "from sklearn.feature_selection import SelectFromModel\n",
    "import getFamaFrenchFactors as gff\n",
    "\n",
    "\n",
    "# Define the ticker symbol for Tesla\n",
    "ticker = 'TSLA'\n",
    "\n",
    "# Define the start and end dates for the data\n",
    "start_date = '2016-01-01'\n",
    "end_date = '2022-01-01'\n",
    "\n",
    "# Download the data from Yahoo Finance\n",
    "tsla = yf.download(ticker, start=start_date, end=end_date)\n",
    "\n",
    "# Calculate OBV\n",
    "tsla['daily_return'] = tsla['Adj Close'].pct_change()\n",
    "tsla['direction'] = np.where(tsla['daily_return'] >= 0, 1, -1)\n",
    "tsla['direction'][0] = 0\n",
    "tsla['vol_adjusted'] = tsla['Volume'] * tsla['direction']\n",
    "tsla['OBV'] = tsla['vol_adjusted'].cumsum()\n",
    "\n",
    "\n",
    "sp500 = yf.download('^GSPC', start=start_date, end=end_date)\n",
    "aapl = yf.download('AAPL', start=start_date, end=end_date)\n",
    "amzn = yf.download('AMZN', start=start_date, end=end_date)\n",
    "goog = yf.download('GOOG', start=start_date, end=end_date)\n",
    "cma = yf.download('CMA', start=start_date, end=end_date)\n",
    "btc = yf.download('BTC-USD', start=start_date, end=end_date)\n",
    "eth = yf.download('ETH-USD', start=start_date, end=end_date)\n",
    "xrp = yf.download('XRP-USD', start=start_date, end=end_date)\n",
    "ltc = yf.download('LTC-USD', start=start_date, end=end_date)\n",
    "ada = yf.download('ADA-USD', start=start_date, end=end_date)\n",
    "vix = yf.download('^VIX', start=start_date, end=end_date)\n",
    "\n",
    "# Calculate additional features\n",
    "tsla['mom_5_20'] = (tsla['Close'] / tsla['Close'].shift(5)) - 1\n",
    "tsla['mom_20_100'] = (tsla['Close'] / tsla['Close'].shift(20)) - 1\n",
    "tsla['mom_60_200'] = (tsla['Close'] / tsla['Close'].shift(60)) - 1\n",
    "\n",
    "# Calculate Fama French 3 factors\n",
    "ff_data = gff.famaFrench3Factor(frequency='m') \n",
    "ff_data.rename(columns={\"date_ff_factors\": 'Date'}, inplace=True)\n",
    "ff_data.set_index('Date',inplace=True)\n",
    "ff_data = ff_data.resample('D').interpolate()\n",
    "\n",
    "\n",
    "\n",
    "# Reset index and convert all dates to same timezones, so they become mergable\n",
    "for x in [sp500,aapl,amzn,goog,tsla,cma,btc,eth,xrp,ltc,ada,ff_data,vix]:\n",
    "    x.reset_index(inplace=True)\n",
    "    x['Date'] =  pd.to_datetime(x['Date']).dt.date\n",
    "\n",
    "\n",
    "\n",
    "\n",
    "df_regressor = pd.DataFrame({\n",
    "    'SP_500_Adj_Close':sp500['Adj Close'].shift(1),\n",
    "    'AAPL_Adj_Close':aapl['Adj Close'].shift(1),\n",
    "    'AMZN_Adj_Close':amzn['Adj Close'].shift(1),\n",
    "    'GOOG_Adj_Close':goog['Adj Close'].shift(1),\n",
    "    'CMA_Adj_Close':cma['Adj Close'].shift(1),\n",
    "    'BTC_Adj_Close':btc['Adj Close'].shift(1),\n",
    "    'ETH_Adj_Close':eth['Adj Close'].shift(1),\n",
    "    'XRP_Adj_Close':xrp['Adj Close'].shift(1),\n",
    "    'LTC_Adj_Close':ltc['Adj Close'].shift(1),\n",
    "    'ADA_Adj_Close':ada['Adj Close'].shift(1),\n",
    "    'Fama_French_Mkt_RF':ff_data['Mkt-RF'].shift(1),\n",
    "    'Fama_French_SMB' : ff_data['SMB'].shift(1),\n",
    "    'Fama_French_HML' : ff_data['HML'].shift(1),\n",
    "    'OBV': tsla['OBV'].shift(1),\n",
    "    'mom_5_20':  tsla['mom_5_20'].shift(1),\n",
    "    'mom_20_100':  tsla['mom_20_100'].shift(1),\n",
    "    'mom_60_200':  tsla['mom_60_200'].shift(1),\n",
    "     'TSLA_CLOSE': tsla['Adj Close'],\n",
    "    'VIX_IDX':vix['Adj Close'].shift(1)\n",
    "})\n",
    "\n",
    "\n",
    "\n",
    "# Remove any rows with missing data\n",
    "df_regressor.dropna(inplace=True)\n",
    "\n",
    "\n",
    "\n",
    "# Split the data into features (X) and target (y)\n",
    "y = df_regressor['TSLA_CLOSE']\n",
    "df_regressor = df_regressor.drop(columns=['TSLA_CLOSE'],axis=1)\n",
    "X = df_regressor\n",
    "# Fit a decision tree model to the data\n",
    "tree = DecisionTreeRegressor(random_state=0)\n",
    "tree.fit(X, y)\n",
    "\n",
    "# Select the top 10 most important features\n",
    "selector = SelectFromModel(tree, prefit=True, threshold=-np.inf, max_features=10)\n",
    "selected_features = X.columns[selector.get_support()]\n",
    "\n",
    "# Print the top 10 most important features\n",
    "print('Top 10 most important features through Decision Trees:')\n",
    "for feature in selected_features:\n",
    "    print(feature)\n"
   ]
  },
  {
   "cell_type": "code",
   "execution_count": 63,
   "id": "e81dab6c",
   "metadata": {},
   "outputs": [
    {
     "name": "stdout",
     "output_type": "stream",
     "text": [
      "Top 10 most important features (Ridge Regression):\n",
      "- AAPL_Adj_Close\n",
      "- GOOG_Adj_Close\n",
      "- XRP_Adj_Close\n",
      "- ADA_Adj_Close\n",
      "- Fama_French_Mkt_RF\n",
      "- Fama_French_SMB\n",
      "- Fama_French_HML\n",
      "- mom_5_20\n",
      "- mom_20_100\n",
      "- mom_60_200\n"
     ]
    },
    {
     "name": "stderr",
     "output_type": "stream",
     "text": [
      "/Users/abhinav-m/opt/anaconda3/lib/python3.9/site-packages/sklearn/linear_model/_ridge.py:147: LinAlgWarning: Ill-conditioned matrix (rcond=1.13928e-23): result may not be accurate.\n",
      "  return linalg.solve(A, Xy, sym_pos=True,\n"
     ]
    }
   ],
   "source": [
    "ridge = Ridge(alpha=0.1)\n",
    "ridge.fit(X, y)\n",
    "\n",
    "# Select the top 10 most important features\n",
    "selector = SelectFromModel(ridge, prefit=True, threshold=-np.inf, max_features=10)\n",
    "selected_features = X.columns[selector.get_support()]\n",
    "\n",
    "# Print the top 10 most important features\n",
    "print('Top 10 most important features (Ridge Regression):')\n",
    "for feature in selected_features:\n",
    "      print('-', feature)\n",
    "\n"
   ]
  },
  {
   "cell_type": "code",
   "execution_count": 64,
   "id": "03e34e7c",
   "metadata": {},
   "outputs": [
    {
     "name": "stdout",
     "output_type": "stream",
     "text": [
      "Top 10 most important features (LARS):\n",
      "- AAPL_Adj_Close\n",
      "- CMA_Adj_Close\n",
      "- LTC_Adj_Close\n",
      "- ADA_Adj_Close\n",
      "- Fama_French_Mkt_RF\n",
      "- Fama_French_SMB\n",
      "- Fama_French_HML\n",
      "- mom_20_100\n",
      "- mom_60_200\n",
      "- VIX_IDX\n"
     ]
    }
   ],
   "source": [
    "# Fit a LassoLarsCV model to the data\n",
    "lars = LassoLarsCV(cv=5).fit(X, y)\n",
    "\n",
    "# Select the top 10 most important features\n",
    "selector_LARS = SelectFromModel(lars, prefit=True, threshold=-np.inf, max_features=10)\n",
    "selected_features_LARS = X.columns[selector_LARS.get_support()]\n",
    "\n",
    "# Print the top 10 most important features\n",
    "print('Top 10 most important features (LARS):')\n",
    "for feature in selected_features_LARS:\n",
    "      print('-', feature)"
   ]
  },
  {
   "cell_type": "code",
   "execution_count": 72,
   "id": "4953525d",
   "metadata": {},
   "outputs": [
    {
     "name": "stdout",
     "output_type": "stream",
     "text": [
      "Top 10 most important features (RandomForest):\n",
      "- SP_500_Adj_Close\n",
      "- AAPL_Adj_Close\n",
      "- AMZN_Adj_Close\n",
      "- XRP_Adj_Close\n",
      "- ADA_Adj_Close\n",
      "- Fama_French_HML\n",
      "- OBV\n",
      "- mom_5_20\n",
      "- mom_20_100\n",
      "- mom_60_200\n"
     ]
    }
   ],
   "source": [
    "# Fit a RandomForest model to the data\n",
    "rf = RandomForestRegressor(random_state=0, n_estimators=100).fit(X, y)\n",
    "\n",
    "# Select the top 10 most important features\n",
    "selector = SelectFromModel(rf, prefit=True, threshold=-np.inf, max_features=10)\n",
    "selected_features = X.columns[selector.get_support()]\n",
    "# selector.estimator.columns\n",
    "# selector.threshold_\n",
    "\n",
    "# Print the top 10 most important features\n",
    "print('Top 10 most important features (RandomForest):')\n",
    "for feature in selected_features:\n",
    "    print('-', feature)"
   ]
  },
  {
   "cell_type": "code",
   "execution_count": 66,
   "id": "63d5a529",
   "metadata": {},
   "outputs": [
    {
     "name": "stdout",
     "output_type": "stream",
     "text": [
      "Top 10 most important features (XGBoost):\n",
      "- SP_500_Adj_Close\n",
      "- AAPL_Adj_Close\n",
      "- AMZN_Adj_Close\n",
      "- GOOG_Adj_Close\n",
      "- CMA_Adj_Close\n",
      "- BTC_Adj_Close\n",
      "- XRP_Adj_Close\n",
      "- Fama_French_HML\n",
      "- OBV\n",
      "- mom_60_200\n"
     ]
    }
   ],
   "source": [
    "# Fit an XGBoost model to the data\n",
    "xgb_model = xgb.XGBRegressor(random_state=0, n_estimators=100).fit(X, y)\n",
    "\n",
    "# Select the top 10 most important features\n",
    "selector = SelectFromModel(xgb_model, prefit=True, threshold=-np.inf, max_features=10)\n",
    "selected_features = X.columns[selector.get_support()]\n",
    "\n",
    "# Print the top 10 most important features\n",
    "print('Top 10 most important features (XGBoost):')\n",
    "for feature in selected_features:\n",
    "    print('-', feature)"
   ]
  },
  {
   "cell_type": "markdown",
   "id": "dcd92d76",
   "metadata": {},
   "source": [
    "## Doubts\n",
    "1. "
   ]
  }
 ],
 "metadata": {
  "kernelspec": {
   "display_name": "Python 3 (ipykernel)",
   "language": "python",
   "name": "python3"
  },
  "language_info": {
   "codemirror_mode": {
    "name": "ipython",
    "version": 3
   },
   "file_extension": ".py",
   "mimetype": "text/x-python",
   "name": "python",
   "nbconvert_exporter": "python",
   "pygments_lexer": "ipython3",
   "version": "3.9.7"
  }
 },
 "nbformat": 4,
 "nbformat_minor": 5
}
